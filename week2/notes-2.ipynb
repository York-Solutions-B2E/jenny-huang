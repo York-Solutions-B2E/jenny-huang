{
 "cells": [
  {
   "cell_type": "markdown",
   "metadata": {},
   "source": [
    "# Object Oriented Programming/ Classes\n",
    "* Why use setters and getters? Protect variables and prevent unwanted changes to the variable "
   ]
  },
  {
   "cell_type": "code",
   "execution_count": 15,
   "metadata": {},
   "outputs": [
    {
     "name": "stdout",
     "output_type": "stream",
     "text": [
      "a\n",
      "b\n"
     ]
    }
   ],
   "source": [
    "class TestClass:\n",
    "    def __init__(self, var1, var2, var3):\n",
    "        self.__var1 = var1      #private variable -- cannot be accessed outside of class\n",
    "        self._var2 = var2   #read only but still accessible outside of class\n",
    "        self.var3 = var3\n",
    "    \n",
    "    @property #read only attribute\n",
    "    def var1(self):\n",
    "        return(self.__var1)   \n",
    "\n",
    "    @var1.setter #enables setting variable \n",
    "    def var1(self, val):\n",
    "        if val == \"a\":\n",
    "            raise Exception(\"Not this one!\")\n",
    "        self.__var1 = val\n",
    "\n",
    "\n",
    "test1 = TestClass(\"a\", \"b\", \"c\")\n",
    "print(test1.var1)\n",
    "test1.var1 = \"b\"\n",
    "print(test1.var1)"
   ]
  },
  {
   "cell_type": "markdown",
   "metadata": {},
   "source": []
  },
  {
   "cell_type": "markdown",
   "metadata": {},
   "source": [
    "# SQL \n",
    "* my code to query the abnormal births data; i found that Alaska has the highest rate of abnormal births "
   ]
  },
  {
   "cell_type": "code",
   "execution_count": 16,
   "metadata": {},
   "outputs": [
    {
     "ename": "SyntaxError",
     "evalue": "invalid syntax (2963919762.py, line 1)",
     "output_type": "error",
     "traceback": [
      "\u001b[0;36m  Cell \u001b[0;32mIn[16], line 1\u001b[0;36m\u001b[0m\n\u001b[0;31m    SELECT state, sum_abnormals / (num_counties * 9) as abn_counties_proportion FROM (SELECT SUBSTRING(County_of_Residence, -2, 2) as state, COUNT(County_of_Residence) as num_counties, SUM(Abnormal_Conditions_Checked_YN) as sum_abnormals,\u001b[0m\n\u001b[0m           ^\u001b[0m\n\u001b[0;31mSyntaxError\u001b[0m\u001b[0;31m:\u001b[0m invalid syntax\n"
     ]
    }
   ],
   "source": [
    "SELECT state, sum_abnormals / (num_counties * 9) as abn_counties_proportion FROM (SELECT SUBSTRING(County_of_Residence, -2, 2) as state, COUNT(County_of_Residence) as num_counties, SUM(Abnormal_Conditions_Checked_YN) as sum_abnormals, \n",
    "FROM `bigquery-public-data.sdoh_cdc_wonder_natality.county_natality_by_abnormal_conditions` \n",
    "WHERE Abnormal_Conditions_Checked_Desc != 'None checked'\n",
    "GROUP BY state)\n",
    "ORDER BY abn_counties_proportion DESC\n",
    "LIMIT 1000;\n",
    "\n",
    "SELECT avg(per_county) as avg, stddev(per_county) as stddev FROM (SELECT state, sum_abnormals / (num_counties * 9) as per_county FROM (SELECT SUBSTRING(County_of_Residence, -2, 2) as state, COUNT(County_of_Residence) as num_counties, SUM(Abnormal_Conditions_Checked_YN) as sum_abnormals, \n",
    "FROM `bigquery-public-data.sdoh_cdc_wonder_natality.county_natality_by_abnormal_conditions` \n",
    "WHERE Abnormal_Conditions_Checked_Desc != 'None checked'\n",
    "GROUP BY state)\n",
    "ORDER BY per_county DESC)\n",
    "LIMIT 1000;\n",
    "--avg is 0.10, std is 0.13 \n",
    "--AK is 0.5 (meaning half the counties have abnormal births), over 3 std. deviations greater than the mean "
   ]
  },
  {
   "cell_type": "markdown",
   "metadata": {},
   "source": [
    "* having vs where: having is used for grouped data"
   ]
  },
  {
   "cell_type": "markdown",
   "metadata": {},
   "source": [
    "# CSV parsing, python"
   ]
  },
  {
   "cell_type": "code",
   "execution_count": null,
   "metadata": {},
   "outputs": [
    {
     "name": "stdout",
     "output_type": "stream",
     "text": [
      "State: AK, abnormal_rate: 0.5\n",
      "State: NH, abnormal_rate: 0.4230769230769231\n",
      "State: RI, abnormal_rate: 0.3684210526315789\n",
      "State: KY, abnormal_rate: 0.3225806451612903\n",
      "State: WV, abnormal_rate: 0.3076923076923077\n",
      "State: NY, abnormal_rate: 0.2627118644067797\n",
      "State: DC, abnormal_rate: 0.25\n",
      "State: MT, abnormal_rate: 0.25\n",
      "State: WI, abnormal_rate: 0.25\n",
      "State: WA, abnormal_rate: 0.23529411764705882\n",
      "State: FL, abnormal_rate: 0.22137404580152673\n",
      "State: ME, abnormal_rate: 0.21739130434782608\n",
      "State: NE, abnormal_rate: 0.2\n",
      "State: TN, abnormal_rate: 0.1702127659574468\n",
      "State: MA, abnormal_rate: 0.16279069767441862\n",
      "State: CO, abnormal_rate: 0.14285714285714285\n",
      "State: TX, abnormal_rate: 0.12408759124087591\n",
      "State: ID, abnormal_rate: 0.11764705882352941\n",
      "State: MI, abnormal_rate: 0.08695652173913043\n",
      "State: IL, abnormal_rate: 0.08695652173913043\n",
      "State: GA, abnormal_rate: 0.0625\n",
      "State: MN, abnormal_rate: 0.05714285714285714\n",
      "State: MD, abnormal_rate: 0.045454545454545456\n",
      "State: PA, abnormal_rate: 0.030303030303030304\n",
      "State: CA, abnormal_rate: 0.01818181818181818\n",
      "State: OH, abnormal_rate: 0.011363636363636364\n",
      "State: ND, abnormal_rate: 0.0\n",
      "State: NM, abnormal_rate: 0.0\n",
      "State: SC, abnormal_rate: 0.0\n",
      "State: IA, abnormal_rate: 0.0\n",
      "State: VA, abnormal_rate: 0.0\n",
      "State: AZ, abnormal_rate: 0.0\n",
      "State: NC, abnormal_rate: 0.0\n",
      "State: NV, abnormal_rate: 0.0\n",
      "State: OR, abnormal_rate: 0.0\n",
      "State: CT, abnormal_rate: 0.0\n",
      "State: SD, abnormal_rate: 0.0\n",
      "State: HI, abnormal_rate: 0.0\n",
      "State: IN, abnormal_rate: 0.0\n",
      "State: UT, abnormal_rate: 0.0\n",
      "State: KS, abnormal_rate: 0.0\n",
      "State: MO, abnormal_rate: 0.0\n",
      "State: OK, abnormal_rate: 0.0\n",
      "State: WY, abnormal_rate: 0.0\n",
      "State: DE, abnormal_rate: 0.0\n",
      "State: MS, abnormal_rate: 0.0\n",
      "State: NJ, abnormal_rate: 0.0\n",
      "State: AR, abnormal_rate: 0.0\n",
      "State: LA, abnormal_rate: 0.0\n",
      "State: VT, abnormal_rate: 0.0\n",
      "State: AL, abnormal_rate: 0.0\n",
      "Average rate is 0.09656855780868338\n",
      "Highest rate is 0.5\n"
     ]
    }
   ],
   "source": [
    "import csv\n",
    "import numpy as np\n",
    "class BirthData: \n",
    "    def __init__ (self, state, abnormal_rate):\n",
    "        self.state = state\n",
    "        self.abnormal_rate = abnormal_rate\n",
    "    def __str__(self):\n",
    "        return f\"State: {self.state}, abnormal_rate: {self.abnormal_rate}\"\n",
    "\n",
    "birth_data = []\n",
    "with open('data_file.csv', 'r') as data_file:        #open file\n",
    "    reader = csv.reader(data_file)  #reads the file line by line\n",
    "    line_count = 0 #use to skip header row\n",
    "    for row in reader:\n",
    "        if line_count != 0:\n",
    "            new_data = BirthData(row[0], float(row[1]))\n",
    "            birth_data.append(new_data)\n",
    "        line_count  += 1\n",
    "\n",
    "for d in birth_data:\n",
    "    print(d)\n",
    "\n",
    "abnormal_rates = [d.abnormal_rate for d in birth_data]      #list comprehension \n",
    "avg_rate = np.mean(abnormal_rates)\n",
    "max_rate = np.max(abnormal_rates)\n",
    "print(f\"Average rate is {avg_rate}\")\n",
    "print(f\"Highest rate is {max_rate}\")\n",
    "\n"
   ]
  },
  {
   "cell_type": "markdown",
   "metadata": {},
   "source": [
    "## sets: \n",
    "* contains only unique elements"
   ]
  },
  {
   "cell_type": "markdown",
   "metadata": {},
   "source": [
    "# Pandas \n",
    "* pd.dataframe(data) : stores data as table\n",
    "* df.describe() : prints summary stats \n",
    "* df[\"col\"] = df[\"col\"].replace(og value, replacement) : replaces all of the values in col with replacement val\n",
    "* df.head() : prints col names and first 4 entries \n",
    "* df.plot(x = \"x var\", y = [\"y var1\", \"y var2\"...], figsize = n, m)\n",
    "    * plt.title(\"Title\")\n",
    "    * plt.xlabel(\"name\")\n",
    "    * plt.ylabel(\"name\")\n",
    "    * plt.show() : shows plot \n",
    "df.hist(\"Col name\", bins = num, figsize = n,m)\n",
    "\n",
    "* can specify datatype for entries using dtype = \n",
    "* pd.timestamp(date) :\n",
    "* pd.Series : \n",
    "\n",
    "* groupby : "
   ]
  },
  {
   "cell_type": "code",
   "execution_count": 16,
   "metadata": {},
   "outputs": [
    {
     "name": "stdout",
     "output_type": "stream",
     "text": [
      "  column\n",
      "0   row1\n",
      "1   row2\n",
      "2   row3\n",
      "    state  magnitude         event_type\n",
      "0      Ha      144.0          high wind\n",
      "1    test      139.0          high wind\n",
      "2    test      136.0          high wind\n",
      "3      Ut      129.0          high wind\n",
      "4      So      113.0  thunderstorm wind\n",
      "..    ...        ...                ...\n",
      "199    Al       81.0  thunderstorm wind\n",
      "200    Ne       81.0          high wind\n",
      "201    Ne       81.0          high wind\n",
      "202    Ne       81.0          high wind\n",
      "203  test       81.0          high wind\n",
      "\n",
      "[204 rows x 3 columns]\n",
      "  state  magnitude         event_type\n",
      "0    Ha      144.0          high wind\n",
      "1  test      139.0          high wind\n",
      "2  test      136.0          high wind\n",
      "3    Ut      129.0          high wind\n",
      "4    So      113.0  thunderstorm wind\n",
      "   state  magnitude         event_type\n",
      "0     Ha      144.0          high wind\n",
      "1   test      139.0          high wind\n",
      "2   test      136.0          high wind\n",
      "3     Ut      129.0          high wind\n",
      "4     So      113.0  thunderstorm wind\n",
      "5     Ut      113.0          high wind\n",
      "6     Wy      111.0          high wind\n",
      "7     So      109.0  thunderstorm wind\n",
      "8     So      104.0  thunderstorm wind\n",
      "9     Oh      104.0  thunderstorm wind\n",
      "10    No      104.0  thunderstorm wind\n",
      "11    No      104.0  thunderstorm wind\n",
      "12    So      104.0  thunderstorm wind\n",
      "13  test      104.0          high wind\n",
      "14    Oh      104.0  thunderstorm wind\n",
      "15    So      104.0  thunderstorm wind\n",
      "16  test      103.0          high wind\n",
      "17    Ne      101.0          high wind\n",
      "18    Co      101.0          high wind\n",
      "19  test      101.0          high wind\n"
     ]
    }
   ],
   "source": [
    "import pandas as pd\n",
    "import matplotlib as plt \n",
    "data = { \"column\" : [\"row1\", \"row2\", \"row3\"]}\n",
    "df = pd.DataFrame(data)\n",
    "print(df)\n",
    "\n",
    "storm_df = pd.read_csv(\"storms.csv\")\n",
    "storm_df[\"state\"] = storm_df[\"state\"].replace(\"Ca\", \"test\")\n",
    "print(storm_df)\n",
    "print(storm_df.head())\n",
    "storm_df_filter = storm_df[storm_df[\"magnitude\"] >100] # filter df using boolean statement\n",
    "print(storm_df_filter)\n",
    "\n"
   ]
  }
 ],
 "metadata": {
  "kernelspec": {
   "display_name": "Python 3",
   "language": "python",
   "name": "python3"
  },
  "language_info": {
   "codemirror_mode": {
    "name": "ipython",
    "version": 3
   },
   "file_extension": ".py",
   "mimetype": "text/x-python",
   "name": "python",
   "nbconvert_exporter": "python",
   "pygments_lexer": "ipython3",
   "version": "3.12.0"
  }
 },
 "nbformat": 4,
 "nbformat_minor": 2
}
