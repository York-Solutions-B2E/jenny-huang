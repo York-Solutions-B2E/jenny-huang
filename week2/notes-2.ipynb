{
 "cells": [
  {
   "cell_type": "markdown",
   "metadata": {},
   "source": [
    "# Object Oriented Programming/ Classes\n",
    "* Why use setters and getters? Protect variables and prevent unwanted changes to the variable "
   ]
  },
  {
   "cell_type": "code",
   "execution_count": 6,
   "metadata": {},
   "outputs": [
    {
     "name": "stdout",
     "output_type": "stream",
     "text": [
      "a\n",
      "b\n"
     ]
    }
   ],
   "source": [
    "class TestClass:\n",
    "    def __init__(self, var1, var2, var3):\n",
    "        self.__var1 = var1      #private variable -- cannot be accessed outside of class\n",
    "        self._var2 = var2   #read only but still accessible outside of class\n",
    "        self.var3 = var3\n",
    "    \n",
    "    @property #read only attribute\n",
    "    def var1(self):\n",
    "        return(self.__var1)   \n",
    "\n",
    "    @var1.setter #enables setting variable \n",
    "    def var1(self, val):\n",
    "        if val == \"a\":\n",
    "            raise Exception(\"Not this one!\")\n",
    "        self.__var1 = val\n",
    "\n",
    "\n",
    "test1 = TestClass(\"a\", \"b\", \"c\")\n",
    "print(test1.var1)\n",
    "test1.var1 = \"b\"\n",
    "print(test1.var1)"
   ]
  },
  {
   "cell_type": "markdown",
   "metadata": {},
   "source": []
  },
  {
   "cell_type": "markdown",
   "metadata": {},
   "source": [
    "# SQL \n",
    "* my code to query the abnormal births data; i found that Alaska has the highest rate of abnormal births "
   ]
  },
  {
   "cell_type": "code",
   "execution_count": null,
   "metadata": {},
   "outputs": [],
   "source": [
    "SELECT state, sum_abnormals / num_counties as per_county FROM (SELECT SUBSTRING(County_of_Residence, -2, 2) as state, COUNT(County_of_Residence) as num_counties, SUM(Abnormal_Conditions_Checked_YN) as sum_abnormals, \n",
    "FROM `bigquery-public-data.sdoh_cdc_wonder_natality.county_natality_by_abnormal_conditions` \n",
    "WHERE Abnormal_Conditions_Checked_Desc != 'None checked'\n",
    "GROUP BY state)\n",
    "ORDER BY per_county DESC\n",
    "LIMIT 1000;\n",
    "\n",
    "SELECT avg(per_county) as avg, stddev(per_county) as stddev FROM (SELECT state, sum_abnormals / num_counties as per_county FROM (SELECT SUBSTRING(County_of_Residence, -2, 2) as state, COUNT(County_of_Residence) as num_counties, SUM(Abnormal_Conditions_Checked_YN) as sum_abnormals, \n",
    "FROM `bigquery-public-data.sdoh_cdc_wonder_natality.county_natality_by_abnormal_conditions` \n",
    "WHERE Abnormal_Conditions_Checked_Desc != 'None checked'\n",
    "GROUP BY state)\n",
    "ORDER BY per_county DESC)\n",
    "LIMIT 1000;\n",
    "--avg is 0.87, std is 1.19\n",
    "--AK is 4.5, over 3 std. deviations greater than the mean "
   ]
  }
 ],
 "metadata": {
  "kernelspec": {
   "display_name": "Python 3",
   "language": "python",
   "name": "python3"
  },
  "language_info": {
   "codemirror_mode": {
    "name": "ipython",
    "version": 3
   },
   "file_extension": ".py",
   "mimetype": "text/x-python",
   "name": "python",
   "nbconvert_exporter": "python",
   "pygments_lexer": "ipython3",
   "version": "3.12.0"
  }
 },
 "nbformat": 4,
 "nbformat_minor": 2
}
