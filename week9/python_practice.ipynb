{
 "cells": [
  {
   "cell_type": "markdown",
   "metadata": {},
   "source": [
    "Questions:\n",
    "* Task 1:  Write a program demonstrating all the uses of * in its different contexts.  After each example, add comments explaining how the asterisk is used in that context."
   ]
  },
  {
   "cell_type": "code",
   "execution_count": 29,
   "metadata": {},
   "outputs": [
    {
     "name": "stdout",
     "output_type": "stream",
     "text": [
      "multiplication: 3 * 5 = 15\n",
      "exponent: 3**2 = 9\n",
      "variable argument call: mul(2,3) = 6, mul(3,4,5) = 60\n"
     ]
    }
   ],
   "source": [
    "def mul(*args):\n",
    "    prod = 1\n",
    "    for x in args:\n",
    "        prod *= x\n",
    "    return prod\n",
    "\n",
    "    \n",
    "def asterick():\n",
    "\n",
    "    print (f\"multiplication: 3 * 5 = {3*5}\")\n",
    "    print(f\"exponent: 3**2 = {3**2}\")\n",
    "    print(f\"variable argument call: mul(2,3) = {mul(2,3)}, mul(3,4,5) = {mul(3,4,5)}\")\n",
    "asterick()"
   ]
  },
  {
   "cell_type": "markdown",
   "metadata": {},
   "source": [
    "* Task 2: Create a script that includes examples of different collections: lists, sets, tuples, and dictionaries. For each type of collection:\n",
    "* Demonstrate their creation and basic operations (addition, deletion, modification).\n",
    "* Show at least two specific methods unique to each collection type.\n",
    "* Show the different methods of iterating over the collection\n",
    "* explain how functions like list, enumerate, zip, and others interact with the data collection. Include comments explaining the characteristics and ideal use-cases for each collection type."
   ]
  },
  {
   "cell_type": "code",
   "execution_count": 21,
   "metadata": {},
   "outputs": [
    {
     "name": "stdout",
     "output_type": "stream",
     "text": [
      "1\n",
      "3\n",
      "5\n",
      "1\n",
      "3\n",
      "5\n",
      "(0, 1)\n",
      "(1, 3)\n",
      "(2, 5)\n",
      "(1, 2)\n",
      "(3, 3)\n",
      "(5, 4)\n"
     ]
    }
   ],
   "source": [
    "#lists:\n",
    "'''ideal use cases:\n",
    "    -sequential data\n",
    "    -mutable data (data that needs to be changed)\n",
    "    -heterogeneous data (multi-typed data)\n",
    "    -iterable data\n",
    "    -passing variable number of arguments'''\n",
    "lst = [1, 2, 3, 4, 5]\n",
    "lst2 = [2, 3, 4, 5, 6]\n",
    "#list addition\n",
    "add_lst = lst + lst2\n",
    "#change value in a list\n",
    "lst[3] = 7\n",
    "#remove item at given index\n",
    "lst.pop(3)\n",
    "#remove first instance of given value\n",
    "lst.remove(2)\n",
    "#delete whole list \n",
    "del add_lst\n",
    "\n",
    "#iterate over list by element\n",
    "for x in lst:\n",
    "    print (x)\n",
    "#iterate by index\n",
    "for i in range(len(lst)):\n",
    "    print(lst[i])\n",
    "#enumerate: create a set of tuples of (i, e) for each element e in the list where i is an integer starting at 0\n",
    "for x in enumerate(lst):\n",
    "    print(x)\n",
    "\n",
    "#zip: create a set of tuples containing one element from each iterable passed in the order they are passsed in\n",
    "for x in zip(lst, lst2):\n",
    "    print(x)"
   ]
  },
  {
   "cell_type": "code",
   "execution_count": null,
   "metadata": {},
   "outputs": [],
   "source": [
    "#dictionaries\n",
    "'''ideal use cases:\n",
    "-fast data retrieval \n",
    "-data requiring unique identifiers\n",
    "-mapping relationships\n",
    "-passing arguments \n",
    "-counting frequency of items\n",
    "'''"
   ]
  },
  {
   "cell_type": "code",
   "execution_count": null,
   "metadata": {},
   "outputs": [],
   "source": [
    "#sets\n",
    "'''ideal use cases\n",
    "-storing unique values only / remove duplicates\n",
    "-membership testing \n",
    "-set operations\n",
    "'''"
   ]
  },
  {
   "cell_type": "code",
   "execution_count": null,
   "metadata": {},
   "outputs": [],
   "source": [
    "#tuples\n",
    "'''ideal use cases:\n",
    "-mapping relationships between data \n",
    "-immutable data (cannot be changed after creation\n",
    "-parallel assignment (assigning multiple variables at once)'''"
   ]
  },
  {
   "cell_type": "markdown",
   "metadata": {},
   "source": [
    "* Task 3: List and descirbe different data types in Python.  Create a separate python file with several functions and classes, and demonstrate how to import these both entirely and partially.\n",
    "        What is the data type of the common libraries we import?  What about when we use from?\n"
   ]
  },
  {
   "cell_type": "code",
   "execution_count": 4,
   "metadata": {},
   "outputs": [
    {
     "data": {
      "text/plain": [
       "<module 'import_practice' from '/Users/yorkmacbook020/Documents/york/jenny-huang/week9/import_practice.py'>"
      ]
     },
     "execution_count": 4,
     "metadata": {},
     "output_type": "execute_result"
    }
   ],
   "source": [
    "#import libraries\n",
    "'''imported libraries are usually modules, classes, or functions'''\n",
    "import import_practice as pp\n",
    "from import_practice import Test\n",
    "#only import parts of a library\n",
    "from importlib import reload\n",
    "reload(pp)"
   ]
  },
  {
   "cell_type": "markdown",
   "metadata": {},
   "source": [
    "* Task 4: Write functions showcasing positional arguments, keyword arguments, default argument values, and variable length arguments.\n",
    "        How do positional arguments and keyword arguments interact with each other?  Are there ways to provide a positional argument as a keyword argument, or vice-versa?\n"
   ]
  },
  {
   "cell_type": "code",
   "execution_count": 5,
   "metadata": {},
   "outputs": [
    {
     "name": "stdout",
     "output_type": "stream",
     "text": [
      "1 2 3\n",
      "3 3 2\n"
     ]
    }
   ],
   "source": [
    "def test_func(a,b,c): \n",
    "    print(a,b,c)\n",
    "\n",
    "test_func(1,2,3)\n",
    "#calling with keyword w\n",
    "test_func(b=3, a= 3, c=2)\n",
    "\n"
   ]
  },
  {
   "cell_type": "markdown",
   "metadata": {},
   "source": [
    "* Task 5: Create a script that demonstrates the use of try-except-else-finally blocks.  Intentionally raise an exception to be caught\n",
    "        What does exception handling allow you to do?  How can it be used best, and how can it be misused?\n"
   ]
  },
  {
   "cell_type": "code",
   "execution_count": 26,
   "metadata": {},
   "outputs": [
    {
     "name": "stdout",
     "output_type": "stream",
     "text": [
      "12\n",
      "Can't add string to int\n"
     ]
    }
   ],
   "source": [
    "#exception handling allows you to write code that will not break at an error, allowing the program to continue running. Also allows u to see clearly where bugs are to fix\n",
    "#it can be misused by being overly broad and catching too many exceptions, which can impact the performance of your program and the ability to recognize errors \n",
    "def test(x): \n",
    "    try:\n",
    "        x + 5\n",
    "    except TypeError as e:\n",
    "        print(\"Can't add string to int\")\n",
    "    else: \n",
    "        print(x+5)\n",
    "test(7)\n",
    "test(\"e\")"
   ]
  },
  {
   "cell_type": "markdown",
   "metadata": {},
   "source": [
    "* Task 6: Go over the different functions you called in your project, and record what DATA TYPE each one returns"
   ]
  },
  {
   "cell_type": "code",
   "execution_count": null,
   "metadata": {},
   "outputs": [],
   "source": []
  }
 ],
 "metadata": {
  "kernelspec": {
   "display_name": "Python 3",
   "language": "python",
   "name": "python3"
  },
  "language_info": {
   "codemirror_mode": {
    "name": "ipython",
    "version": 3
   },
   "file_extension": ".py",
   "mimetype": "text/x-python",
   "name": "python",
   "nbconvert_exporter": "python",
   "pygments_lexer": "ipython3",
   "version": "3.12.0"
  }
 },
 "nbformat": 4,
 "nbformat_minor": 2
}
